{
 "cells": [
  {
   "cell_type": "code",
   "execution_count": 1,
   "id": "329a74b6",
   "metadata": {},
   "outputs": [
    {
     "name": "stderr",
     "output_type": "stream",
     "text": [
      "c:\\Users\\tavi\\AppData\\Local\\Programs\\Python\\Python312\\Lib\\site-packages\\tqdm\\auto.py:21: TqdmWarning: IProgress not found. Please update jupyter and ipywidgets. See https://ipywidgets.readthedocs.io/en/stable/user_install.html\n",
      "  from .autonotebook import tqdm as notebook_tqdm\n"
     ]
    }
   ],
   "source": [
    "## Please install torch and datasets\n",
    "import torch\n",
    "from torchvision.transforms import functional as t\n",
    "import torch.nn.functional as f\n",
    "from datasets import load_dataset\n"
   ]
  },
  {
   "cell_type": "code",
   "execution_count": 2,
   "id": "0934cf3a",
   "metadata": {},
   "outputs": [],
   "source": [
    "## Loading our dataset\n",
    "ds = load_dataset(\"ylecun/mnist\")"
   ]
  },
  {
   "cell_type": "code",
   "execution_count": 3,
   "id": "fb5cbf19",
   "metadata": {},
   "outputs": [],
   "source": [
    "## Data splits\n",
    "# The train split is used for training the model.\n",
    "# There is a possibility that instead of learning to read numbers our model \n",
    "# starts memorising the answers to each training example. To check for this,\n",
    "# we have a seperate test split. If the model performs just as good on the test \n",
    "# split as it does on the train split, our model has learned instead of memorised.\n",
    "\n",
    "X_train_p = ds[\"train\"][\"image\"]\n",
    "Y_train = ds[\"train\"][\"label\"]\n",
    "X_test_p = ds[\"test\"][\"image\"]\n",
    "Y_test = ds[\"test\"][\"label\"]"
   ]
  },
  {
   "cell_type": "code",
   "execution_count": 4,
   "id": "0d09c971",
   "metadata": {},
   "outputs": [
    {
     "name": "stdout",
     "output_type": "stream",
     "text": [
      "<PIL.PngImagePlugin.PngImageFile image mode=L size=28x28 at 0x1C258ED1EE0> 5\n"
     ]
    }
   ],
   "source": [
    "print(X_train_p[0], Y_train[0])"
   ]
  },
  {
   "cell_type": "code",
   "execution_count": 5,
   "id": "3d0c8b78",
   "metadata": {},
   "outputs": [
    {
     "name": "stdout",
     "output_type": "stream",
     "text": [
      "torch.Size([60000, 1, 28, 28]) torch.Size([10000, 1, 28, 28])\n"
     ]
    }
   ],
   "source": [
    "X_train = [t.pil_to_tensor(x) for x in X_train_p]\n",
    "X_test = [t.pil_to_tensor(x) for x in X_test_p]\n",
    "\n",
    "# Tavish, make sure you explain what tensors are and what shape is\n",
    "X_train = torch.stack(X_train)\n",
    "X_test = torch.stack(X_test)\n",
    "print(X_train.shape, X_test.shape)"
   ]
  },
  {
   "cell_type": "code",
   "execution_count": 6,
   "id": "d32ba99f",
   "metadata": {},
   "outputs": [
    {
     "name": "stdout",
     "output_type": "stream",
     "text": [
      "torch.Size([60000, 28, 28]) torch.Size([10000, 28, 28])\n"
     ]
    }
   ],
   "source": [
    "## Fixing the shape\n",
    "\n",
    "X_train = X_train.view(-1, 28, 28)\n",
    "X_test = X_test.view(-1, 28, 28)\n",
    "print(X_train.shape, X_test.shape)"
   ]
  },
  {
   "cell_type": "code",
   "execution_count": 7,
   "id": "34acb755",
   "metadata": {},
   "outputs": [],
   "source": [
    "Y_train = torch.tensor(Y_train)\n",
    "Y_test = torch.tensor(Y_test)"
   ]
  },
  {
   "cell_type": "code",
   "execution_count": 8,
   "id": "fe8fac0d",
   "metadata": {},
   "outputs": [
    {
     "data": {
      "text/plain": [
       "<matplotlib.image.AxesImage at 0x1c2671a6f60>"
      ]
     },
     "execution_count": 8,
     "metadata": {},
     "output_type": "execute_result"
    },
    {
     "data": {
      "image/png": "[encoded data removed]",
      "text/plain": [
       "<Figure size 640x480 with 1 Axes>"
      ]
     },
     "metadata": {},
     "output_type": "display_data"
    }
   ],
   "source": [
    "## Let's look at the image\n",
    "\n",
    "import matplotlib.pyplot as plt\n",
    "\n",
    "plt.imshow(X_train[0])"
   ]
  },
  {
   "cell_type": "code",
   "execution_count": 9,
   "id": "62ffc485",
   "metadata": {},
   "outputs": [
    {
     "name": "stdout",
     "output_type": "stream",
     "text": [
      "tensor([[[1, 2],\n",
      "         [3, 4]],\n",
      "\n",
      "        [[5, 6],\n",
      "         [7, 8]]]) \n",
      " tensor([[1, 2, 3, 4],\n",
      "        [5, 6, 7, 8]])\n"
     ]
    }
   ],
   "source": [
    "## Showing that different training examples will remain seperate by flattening the image in the manner we will\n",
    "a = torch.tensor([[[1,2],[3,4]],[[5,6],[7,8]]])\n",
    "print(a, '\\n', a.view(-1, 4))"
   ]
  },
  {
   "cell_type": "code",
   "execution_count": 10,
   "id": "5239aee9",
   "metadata": {},
   "outputs": [
    {
     "name": "stdout",
     "output_type": "stream",
     "text": [
      "torch.Size([60000, 784]) torch.Size([10000, 784])\n"
     ]
    }
   ],
   "source": [
    "## Flattening the image as DNN takes flat tensor as input\n",
    "\n",
    "X_train = X_train.view(-1, 784).float() / 255.0\n",
    "X_test = X_test.view(-1, 784).float() / 255.0\n",
    "print(X_train.shape, X_test.shape)"
   ]
  },
  {
   "cell_type": "code",
   "execution_count": 11,
   "id": "d74b52ce",
   "metadata": {},
   "outputs": [
    {
     "name": "stdout",
     "output_type": "stream",
     "text": [
      "tensor([[1, 2],\n",
      "        [3, 4]])\n",
      "tensor([[1],\n",
      "        [2]])\n"
     ]
    },
    {
     "data": {
      "text/plain": [
       "tensor([[2, 3],\n",
       "        [5, 6]])"
      ]
     },
     "execution_count": 11,
     "metadata": {},
     "output_type": "execute_result"
    }
   ],
   "source": [
    "## Explaining broadcasting\n",
    "\n",
    "a = torch.tensor([[1,2],[3,4]])\n",
    "print(a)\n",
    "\n",
    "# Check the difference by commenting one of these lines\n",
    "b = torch.tensor([1,2])\n",
    "b = torch.tensor([[1],[2]])\n",
    "print(b)\n",
    "\n",
    "a+b"
   ]
  },
  {
   "cell_type": "code",
   "execution_count": 12,
   "id": "8c681c70",
   "metadata": {},
   "outputs": [],
   "source": [
    "## Definining our model\n",
    "# Let's make a network with 2 hidden layer and 1 output layer\n",
    "\n",
    "# Weight matrices have shape (number of inputs) x (number of neurons)\n",
    "# Bias matrices have shape (batch size) x (number of neurons) where all rows have the same values\n",
    "# Because all rows are the same, we can use broadcasting.\n",
    "\n",
    "n1 = 128\n",
    "n2 = 64\n",
    "n3 = 10\n",
    "\n",
    "W1 = torch.randn(784, n1)\n",
    "B1 = torch.randn(n1)\n",
    "\n",
    "W2 = torch.randn(n1, n2)\n",
    "B2 = torch.randn(n2)\n",
    "\n",
    "W3 = torch.randn(n2, n3)\n",
    "B3 = torch.randn(n3)\n",
    "\n",
    "params = [W1, B1, W2, B2, W3, B3]\n",
    "for p in params:\n",
    "    p.requires_grad = True"
   ]
  },
  {
   "cell_type": "code",
   "execution_count": 18,
   "id": "64137af1",
   "metadata": {},
   "outputs": [
    {
     "name": "stdout",
     "output_type": "stream",
     "text": [
      "tensor(1.2333, grad_fn=<NllLossBackward0>)\n",
      "tensor(1.1996, grad_fn=<NllLossBackward0>)\n",
      "tensor(1.1684, grad_fn=<NllLossBackward0>)\n",
      "tensor(1.1393, grad_fn=<NllLossBackward0>)\n",
      "tensor(1.1121, grad_fn=<NllLossBackward0>)\n",
      "tensor(1.0865, grad_fn=<NllLossBackward0>)\n",
      "tensor(1.0624, grad_fn=<NllLossBackward0>)\n",
      "tensor(1.0397, grad_fn=<NllLossBackward0>)\n",
      "tensor(1.0183, grad_fn=<NllLossBackward0>)\n",
      "tensor(0.9980, grad_fn=<NllLossBackward0>)\n",
      "tensor(0.9788, grad_fn=<NllLossBackward0>)\n",
      "tensor(0.9605, grad_fn=<NllLossBackward0>)\n",
      "tensor(0.9432, grad_fn=<NllLossBackward0>)\n",
      "tensor(0.9268, grad_fn=<NllLossBackward0>)\n",
      "tensor(0.9112, grad_fn=<NllLossBackward0>)\n",
      "tensor(0.8963, grad_fn=<NllLossBackward0>)\n",
      "tensor(0.8822, grad_fn=<NllLossBackward0>)\n",
      "tensor(0.8687, grad_fn=<NllLossBackward0>)\n",
      "tensor(0.8559, grad_fn=<NllLossBackward0>)\n",
      "tensor(0.8436, grad_fn=<NllLossBackward0>)\n"
     ]
    }
   ],
   "source": [
    "## Training\n",
    "iters = 1000\n",
    "alpha = 0.05\n",
    "\n",
    "for i in range(iters):\n",
    "    # Forward Pass\n",
    "    Y1_preactivation = X_train@W1 + B1\n",
    "    Y1 = torch.tanh(Y1_preactivation)\n",
    "    Y2_preactivation = Y1@W2 + B2\n",
    "    Y2 = torch.tanh(Y2_preactivation)\n",
    "    logits = Y2@W3 + B3\n",
    "    probs = f.softmax(logits, 1)\n",
    "\n",
    "\n",
    "    # Loss\n",
    "    # Show documentation for expected data-type\n",
    "    L = f.cross_entropy(logits, Y_train)\n",
    "\n",
    "    # Calculating Gradient\n",
    "    for p in params:\n",
    "        p.grad = None\n",
    "        \n",
    "    L.backward()    \n",
    "\n",
    "    # Weight Update\n",
    "    for p in params:\n",
    "        p.data += -alpha * p.grad\n",
    "\n",
    "    if i % (iters/20) == 0:\n",
    "        print(L)\n"
   ]
  },
  {
   "cell_type": "code",
   "execution_count": 16,
   "id": "fd50031e",
   "metadata": {},
   "outputs": [
    {
     "name": "stdout",
     "output_type": "stream",
     "text": [
      "tensor([[2, 1],\n",
      "        [3, 4]])\n"
     ]
    },
    {
     "data": {
      "text/plain": [
       "tensor([0, 1])"
      ]
     },
     "execution_count": 16,
     "metadata": {},
     "output_type": "execute_result"
    }
   ],
   "source": [
    "## Showing how to get max value \n",
    "\n",
    "a = torch.tensor([[2,1],[3,4]])\n",
    "\n",
    "print(a)\n",
    "a.argmax(1)"
   ]
  },
  {
   "cell_type": "code",
   "execution_count": 24,
   "id": "eadd2ac6",
   "metadata": {},
   "outputs": [
    {
     "name": "stdout",
     "output_type": "stream",
     "text": [
      "train accuracy: 77.86666666666666 | test accuracy: 75.09\n",
      "train loss: 0.8318520188331604 | test loss: 0.9857254028320312\n"
     ]
    }
   ],
   "source": [
    "def accuracy(X, Y):\n",
    "    # Forward\n",
    "    Y1_preactivation = X@W1 + B1\n",
    "    Y1 = torch.tanh(Y1_preactivation)\n",
    "    Y2_preactivation = Y1@W2 + B2\n",
    "    Y2 = torch.tanh(Y2_preactivation)\n",
    "    logits = Y2@W3 + B3\n",
    "    probs = f.softmax(logits, 1)\n",
    "    answers = logits.argmax(1)\n",
    "    c = 0\n",
    "    for a, y in zip(answers, Y): \n",
    "        if a==y: c+=1\n",
    "    return c / answers.shape[0] * 100\n",
    "\n",
    "def loss(X, Y):\n",
    "    Y1_preactivation = X@W1 + B1\n",
    "    Y1 = torch.tanh(Y1_preactivation)\n",
    "    Y2_preactivation = Y1@W2 + B2\n",
    "    Y2 = torch.tanh(Y2_preactivation)\n",
    "    logits = Y2@W3 + B3\n",
    "    return f.cross_entropy(logits, Y)\n",
    "\n",
    "\n",
    "print(f\"train accuracy: {accuracy(X_train, Y_train)} | test accuracy: {accuracy(X_test, Y_test)}\")\n",
    "print(f\"train loss: {loss(X_train, Y_train)} | test loss: {loss(X_test, Y_test)}\")"
   ]
  },
  {
   "cell_type": "code",
   "execution_count": 28,
   "id": "5f25ee78",
   "metadata": {},
   "outputs": [
    {
     "name": "stdout",
     "output_type": "stream",
     "text": [
      "tensor([1])\n"
     ]
    },
    {
     "data": {
      "image/png": "[encoded data removed]",
      "text/plain": [
       "<Figure size 640x480 with 1 Axes>"
      ]
     },
     "metadata": {},
     "output_type": "display_data"
    }
   ],
   "source": [
    "sample = torch.stack([X_test[2]])\n",
    "plt.imshow(sample.view(28, 28))\n",
    "\n",
    "Y1_preactivation = sample@W1 + B1\n",
    "Y1 = torch.tanh(Y1_preactivation)\n",
    "Y2_preactivation = Y1@W2 + B2\n",
    "Y2 = torch.tanh(Y2_preactivation)\n",
    "logits = Y2@W3 + B3\n",
    "probs = f.softmax(logits, 1)\n",
    "answer = logits.argmax(1)\n",
    "print(answer)"
   ]
  }
 ],
 "metadata": {
  "kernelspec": {
   "display_name": "Python 3",
   "language": "python",
   "name": "python3"
  },
  "language_info": {
   "codemirror_mode": {
    "name": "ipython",
    "version": 3
   },
   "file_extension": ".py",
   "mimetype": "text/x-python",
   "name": "python",
   "nbconvert_exporter": "python",
   "pygments_lexer": "ipython3",
   "version": "3.12.7"
  }
 },
 "nbformat": 4,
 "nbformat_minor": 5
}
